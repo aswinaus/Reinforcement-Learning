{
 "cells": [
  {
   "cell_type": "code",
   "execution_count": 2,
   "id": "48364378-1750-43e3-96cd-6ce081b1e4b5",
   "metadata": {},
   "outputs": [],
   "source": [
    "import time"
   ]
  },
  {
   "cell_type": "code",
   "execution_count": 3,
   "id": "1589a0bd-a8f1-42f2-ae0d-4758ee1be2b5",
   "metadata": {},
   "outputs": [],
   "source": [
    "from IPython.display import clear_output"
   ]
  },
  {
   "cell_type": "code",
   "execution_count": 4,
   "id": "ad7a4576-160d-4e90-85e2-71fc7fa0b4d2",
   "metadata": {},
   "outputs": [
    {
     "name": "stdout",
     "output_type": "stream",
     "text": [
      "Name: gym\n",
      "Version: 0.26.2\n",
      "Summary: Gym: A universal API for reinforcement learning environments\n",
      "Home-page: https://www.gymlibrary.dev/\n",
      "Author: Gym Community\n",
      "Author-email: jkterry@umd.edu\n",
      "License: MIT\n",
      "Location: C:\\Users\\aswin\\anaconda3\\Lib\\site-packages\n",
      "Requires: cloudpickle, gym-notices, numpy\n",
      "Required-by: \n",
      "Note: you may need to restart the kernel to use updated packages.\n"
     ]
    }
   ],
   "source": [
    "pip show gym"
   ]
  },
  {
   "cell_type": "code",
   "execution_count": 5,
   "id": "3670af20-0b61-4f51-ad3e-a46a6a4453d3",
   "metadata": {},
   "outputs": [],
   "source": [
    "import sys"
   ]
  },
  {
   "cell_type": "code",
   "execution_count": 6,
   "id": "9090f736-737c-4948-b00f-8755d6b8d54c",
   "metadata": {},
   "outputs": [],
   "source": [
    "sys.path.append('C:\\\\Users\\\\aswin\\\\anaconda3\\\\Lib\\\\site-packages')"
   ]
  },
  {
   "cell_type": "code",
   "execution_count": 7,
   "id": "0ca7d299-975e-4d9d-b5e8-92e1cd288734",
   "metadata": {},
   "outputs": [],
   "source": [
    "#import gym\n",
    "#!pip install gymnasium\n",
    "import gymnasium as gym\n",
    "#!pip install gym==0.21.0"
   ]
  },
  {
   "cell_type": "code",
   "execution_count": 8,
   "id": "2a724f5e-d688-4d00-adcd-e20c2381e0a8",
   "metadata": {},
   "outputs": [],
   "source": [
    "import numpy as np"
   ]
  },
  {
   "cell_type": "code",
   "execution_count": 9,
   "id": "6293329b-f67c-4802-852e-f98536677c13",
   "metadata": {},
   "outputs": [],
   "source": [
    "import random"
   ]
  },
  {
   "cell_type": "code",
   "execution_count": 10,
   "id": "cd7f30ef-9053-46f1-82ba-8b715fca432a",
   "metadata": {},
   "outputs": [],
   "source": [
    "import time"
   ]
  },
  {
   "cell_type": "code",
   "execution_count": 11,
   "id": "afd614e7-85e4-43ea-ac46-aaad4fe7ea53",
   "metadata": {},
   "outputs": [],
   "source": [
    "from IPython.display import clear_output"
   ]
  },
  {
   "cell_type": "code",
   "execution_count": 12,
   "id": "2c68b003-df19-4128-ad6b-f325e116ff2e",
   "metadata": {},
   "outputs": [],
   "source": [
    "env=gym.make(\"FrozenLake-v1\", render_mode=\"rgb_array\", is_slippery=False)"
   ]
  },
  {
   "cell_type": "code",
   "execution_count": 13,
   "id": "cffa3d53-0ba9-422d-95d6-97823598430a",
   "metadata": {},
   "outputs": [],
   "source": [
    "action_space_size=env.action_space.n"
   ]
  },
  {
   "cell_type": "code",
   "execution_count": 14,
   "id": "24ced700-f55e-49c4-926a-24f4ec66bcbc",
   "metadata": {},
   "outputs": [],
   "source": [
    "state_space_size=env.observation_space.n"
   ]
  },
  {
   "cell_type": "code",
   "execution_count": 15,
   "id": "ee3d42fc-f12f-44e9-a845-603d7d26ee01",
   "metadata": {},
   "outputs": [],
   "source": [
    "q_table=np.zeros((state_space_size,action_space_size))"
   ]
  },
  {
   "cell_type": "code",
   "execution_count": 16,
   "id": "13c56fa5-a77c-4534-b29f-ec7dda1b7baf",
   "metadata": {},
   "outputs": [
    {
     "name": "stdout",
     "output_type": "stream",
     "text": [
      "[[0. 0. 0. 0.]\n",
      " [0. 0. 0. 0.]\n",
      " [0. 0. 0. 0.]\n",
      " [0. 0. 0. 0.]\n",
      " [0. 0. 0. 0.]\n",
      " [0. 0. 0. 0.]\n",
      " [0. 0. 0. 0.]\n",
      " [0. 0. 0. 0.]\n",
      " [0. 0. 0. 0.]\n",
      " [0. 0. 0. 0.]\n",
      " [0. 0. 0. 0.]\n",
      " [0. 0. 0. 0.]\n",
      " [0. 0. 0. 0.]\n",
      " [0. 0. 0. 0.]\n",
      " [0. 0. 0. 0.]\n",
      " [0. 0. 0. 0.]]\n"
     ]
    }
   ],
   "source": [
    "print(q_table)"
   ]
  },
  {
   "cell_type": "code",
   "execution_count": 17,
   "id": "fe10e03c-ffc7-4ff8-a4e4-0efc345aad54",
   "metadata": {},
   "outputs": [],
   "source": [
    "num_episodes=10000"
   ]
  },
  {
   "cell_type": "code",
   "execution_count": 18,
   "id": "59fe3ff7-046b-4c28-a692-59ab4b2058c8",
   "metadata": {},
   "outputs": [],
   "source": [
    "max_steps_per_episode=100"
   ]
  },
  {
   "cell_type": "code",
   "execution_count": 19,
   "id": "81ef9b62-6668-429a-8201-3bac07a7988f",
   "metadata": {},
   "outputs": [],
   "source": [
    "learning_rate=1"
   ]
  },
  {
   "cell_type": "code",
   "execution_count": 20,
   "id": "2ebbac7b-6f61-4442-b339-edd9a03eaf21",
   "metadata": {},
   "outputs": [],
   "source": [
    "discount_rate=0.9"
   ]
  },
  {
   "cell_type": "code",
   "execution_count": 21,
   "id": "0d20bb9d-a39e-4e08-9998-ae4765a6b8f6",
   "metadata": {},
   "outputs": [],
   "source": [
    "exploration_rate=1 #Probability the agent will explore the environment instead of exploiting the environment"
   ]
  },
  {
   "cell_type": "code",
   "execution_count": 22,
   "id": "a2e64455-c418-44f4-a7ac-f8e4e109a90f",
   "metadata": {},
   "outputs": [],
   "source": [
    "max_exploration_rate=1"
   ]
  },
  {
   "cell_type": "code",
   "execution_count": 23,
   "id": "a9276921-3bf9-41f6-aa53-02c8d13acb0b",
   "metadata": {},
   "outputs": [],
   "source": [
    "min_exploration_rate=0.01"
   ]
  },
  {
   "cell_type": "code",
   "execution_count": 24,
   "id": "f9d91962-ffc8-49e5-aeed-aa6f985459a2",
   "metadata": {},
   "outputs": [],
   "source": [
    "exploration_decay_rate=0.001"
   ]
  },
  {
   "cell_type": "code",
   "execution_count": 25,
   "id": "14413018-5250-410a-9f40-592958a8eb17",
   "metadata": {},
   "outputs": [],
   "source": [
    "rewards_all_episodes=[]"
   ]
  },
  {
   "cell_type": "code",
   "execution_count": 26,
   "id": "e47679f4-f93b-47a7-9c1d-3a59b92b7b5f",
   "metadata": {},
   "outputs": [
    {
     "name": "stdout",
     "output_type": "stream",
     "text": [
      "********Average reward per thousand episodes********\n",
      "\n",
      "1000 :  0.2680000000000002\n",
      "2000 :  0.7150000000000005\n",
      "3000 :  0.9070000000000007\n",
      "4000 :  0.9460000000000007\n",
      "5000 :  0.9840000000000008\n",
      "6000 :  0.9780000000000008\n",
      "7000 :  0.9940000000000008\n",
      "8000 :  0.9900000000000008\n",
      "9000 :  0.9880000000000008\n",
      "10000 :  0.9920000000000008\n",
      "\n",
      "\n",
      "********Q-table********\n",
      "\n",
      "[[0.531441 0.59049  0.59049  0.531441]\n",
      " [0.531441 0.       0.6561   0.59049 ]\n",
      " [0.59049  0.729    0.59049  0.6561  ]\n",
      " [0.6561   0.       0.59049  0.59049 ]\n",
      " [0.59049  0.6561   0.       0.531441]\n",
      " [0.       0.       0.       0.      ]\n",
      " [0.       0.81     0.       0.6561  ]\n",
      " [0.       0.       0.       0.      ]\n",
      " [0.6561   0.       0.729    0.59049 ]\n",
      " [0.6561   0.81     0.81     0.      ]\n",
      " [0.729    0.9      0.       0.729   ]\n",
      " [0.       0.       0.       0.      ]\n",
      " [0.       0.       0.       0.      ]\n",
      " [0.       0.81     0.9      0.729   ]\n",
      " [0.81     0.9      1.       0.81    ]\n",
      " [0.       0.       0.       0.      ]]\n"
     ]
    }
   ],
   "source": [
    "#Q-learning algorithm This for loop contains everything that happens within a single episode\n",
    "for episode in range(num_episodes):\n",
    "    state = env.reset()[0]\n",
    "    done=False\n",
    "    rewards_current_episode=0\n",
    "    # This nested for loop contains everything that happens for a single time step within each episode\n",
    "    for step in range(max_steps_per_episode):\n",
    "        # Exploration-exploration trade-off\n",
    "        exploration_rate_threshold=random.uniform(0,1)\n",
    "        # If the threshold is greater than the exploration rate which is set to 1 then the agent will exploit the environment\n",
    "        if exploration_rate_threshold > exploration_rate:\n",
    "            #Choose the action that has the highest Q value in the Q table for the current state\n",
    "            action=np.argmax(q_table[state,:])\n",
    "        else:\n",
    "        # if on the other hand if the threshold is lesser than or equal to the exploration rate then the agent will explore the environment and sample an action randonmly\n",
    "            action=env.action_space.sample()\n",
    "        \n",
    "        new_state,reward,done,truncated,info = env.step(action)\n",
    "        # Update Q-table for Q(s,a)\n",
    "        q_table[state, action] = q_table[state, action] * (1 - learning_rate) + \\\n",
    "            learning_rate * (reward + discount_rate * np.max(q_table[new_state, :]))\n",
    "\n",
    "        state = new_state\n",
    "        rewards_current_episode += reward        \n",
    "        \n",
    "        if done == True: \n",
    "            break\n",
    "           \n",
    "    # Exploration rate decay\n",
    "    exploration_rate = min_exploration_rate + \\\n",
    "        (max_exploration_rate - min_exploration_rate) * np.exp(-exploration_decay_rate*episode)    \n",
    "    \n",
    "    rewards_all_episodes.append(rewards_current_episode)\n",
    "\n",
    "# Calculate and print the average reward per thousand episodes\n",
    "rewards_per_thosand_episodes = np.split(np.array(rewards_all_episodes),num_episodes/1000)\n",
    "count = 1000\n",
    "print(\"********Average reward per thousand episodes********\\n\")\n",
    "for r in rewards_per_thosand_episodes:\n",
    "    avg_reward = sum(r/1000)\n",
    "    print(count, \": \", str(avg_reward))\n",
    "    count += 1000\n",
    "# Print updated Q-table\n",
    "print(\"\\n\\n********Q-table********\\n\")\n",
    "print(q_table)"
   ]
  },
  {
   "cell_type": "code",
   "execution_count": 27,
   "id": "fdb91a42-14e5-4933-9553-7274eb50995b",
   "metadata": {},
   "outputs": [
    {
     "name": "stdout",
     "output_type": "stream",
     "text": [
      "Requirement already satisfied: gymnasium[toy-text] in c:\\users\\aswin\\anaconda3\\lib\\site-packages (1.0.0)Note: you may need to restart the kernel to use updated packages.\n",
      "\n",
      "Requirement already satisfied: numpy>=1.21.0 in c:\\users\\aswin\\anaconda3\\lib\\site-packages (from gymnasium[toy-text]) (1.26.4)\n",
      "Requirement already satisfied: cloudpickle>=1.2.0 in c:\\users\\aswin\\anaconda3\\lib\\site-packages (from gymnasium[toy-text]) (3.0.0)\n",
      "Requirement already satisfied: typing-extensions>=4.3.0 in c:\\users\\aswin\\anaconda3\\lib\\site-packages (from gymnasium[toy-text]) (4.11.0)\n",
      "Requirement already satisfied: farama-notifications>=0.0.1 in c:\\users\\aswin\\anaconda3\\lib\\site-packages (from gymnasium[toy-text]) (0.0.4)\n",
      "Requirement already satisfied: pygame>=2.1.3 in c:\\users\\aswin\\anaconda3\\lib\\site-packages (from gymnasium[toy-text]) (2.6.1)\n"
     ]
    }
   ],
   "source": [
    "pip install \"gymnasium[toy-text]"
   ]
  },
  {
   "cell_type": "code",
   "execution_count": 28,
   "id": "9256f787-8943-471a-aff7-6bd5fa748da8",
   "metadata": {},
   "outputs": [
    {
     "name": "stdout",
     "output_type": "stream",
     "text": [
      "[[[180 200 230]\n",
      "  [180 200 230]\n",
      "  [180 200 230]\n",
      "  ...\n",
      "  [180 200 230]\n",
      "  [180 200 230]\n",
      "  [180 200 230]]\n",
      "\n",
      " [[180 200 230]\n",
      "  [204 230 255]\n",
      "  [204 230 255]\n",
      "  ...\n",
      "  [204 230 255]\n",
      "  [204 230 255]\n",
      "  [180 200 230]]\n",
      "\n",
      " [[180 200 230]\n",
      "  [235 245 249]\n",
      "  [204 230 255]\n",
      "  ...\n",
      "  [204 230 255]\n",
      "  [204 230 255]\n",
      "  [180 200 230]]\n",
      "\n",
      " ...\n",
      "\n",
      " [[180 200 230]\n",
      "  [235 245 249]\n",
      "  [235 245 249]\n",
      "  ...\n",
      "  [204 230 255]\n",
      "  [235 245 249]\n",
      "  [180 200 230]]\n",
      "\n",
      " [[180 200 230]\n",
      "  [235 245 249]\n",
      "  [235 245 249]\n",
      "  ...\n",
      "  [204 230 255]\n",
      "  [204 230 255]\n",
      "  [180 200 230]]\n",
      "\n",
      " [[180 200 230]\n",
      "  [180 200 230]\n",
      "  [180 200 230]\n",
      "  ...\n",
      "  [180 200 230]\n",
      "  [180 200 230]\n",
      "  [180 200 230]]]\n",
      "****You reached the goal!****\n"
     ]
    }
   ],
   "source": [
    "# Watch our agent play Frozen Lake by playing the best action \n",
    "# from each state according to the Q-table.\n",
    "# Run for more episodes to watch longer.\n",
    "\n",
    "for episode in range(3):\n",
    "    state = env.reset()[0]\n",
    "    done = False\n",
    "    print(\"*****EPISODE \", episode+1, \"*****\\n\\n\\n\\n\")\n",
    "    time.sleep(1)\n",
    "\n",
    "    for step in range(max_steps_per_episode):        \n",
    "        clear_output(wait=True)\n",
    "        print(env.render())\n",
    "        time.sleep(0.3)\n",
    "        \n",
    "        action = np.argmax(q_table[state,:])        \n",
    "        new_state, reward, done, truncated, info = env.step(action)\n",
    "        \n",
    "        if done:\n",
    "            clear_output(wait=True)\n",
    "            print(env.render())\n",
    "            if reward == 1:\n",
    "                print(\"****You reached the goal!****\")\n",
    "                time.sleep(3)\n",
    "            else:\n",
    "                print(\"****You fell through a hole!****\")\n",
    "                time.sleep(3)\n",
    "            clear_output(wait=True)\n",
    "            break\n",
    "            \n",
    "        state = new_state\n",
    "        \n",
    "env.close()"
   ]
  },
  {
   "cell_type": "code",
   "execution_count": null,
   "id": "051b2d0a-bde2-4347-a323-25b7925f1299",
   "metadata": {},
   "outputs": [],
   "source": []
  },
  {
   "cell_type": "code",
   "execution_count": null,
   "id": "9fcc848a-d210-40cb-9739-ea409647cdb8",
   "metadata": {},
   "outputs": [],
   "source": []
  }
 ],
 "metadata": {
  "kernelspec": {
   "display_name": "Python 3 (ipykernel)",
   "language": "python",
   "name": "python3"
  },
  "language_info": {
   "codemirror_mode": {
    "name": "ipython",
    "version": 3
   },
   "file_extension": ".py",
   "mimetype": "text/x-python",
   "name": "python",
   "nbconvert_exporter": "python",
   "pygments_lexer": "ipython3",
   "version": "3.12.7"
  }
 },
 "nbformat": 4,
 "nbformat_minor": 5
}
