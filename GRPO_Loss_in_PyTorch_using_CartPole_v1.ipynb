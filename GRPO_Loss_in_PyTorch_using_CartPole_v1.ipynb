{
  "nbformat": 4,
  "nbformat_minor": 0,
  "metadata": {
    "colab": {
      "provenance": [],
      "authorship_tag": "ABX9TyPLjYr14xqy7N5StYNGDSKn",
      "include_colab_link": true
    },
    "kernelspec": {
      "name": "python3",
      "display_name": "Python 3"
    },
    "language_info": {
      "name": "python"
    }
  },
  "cells": [
    {
      "cell_type": "markdown",
      "metadata": {
        "id": "view-in-github",
        "colab_type": "text"
      },
      "source": [
        "<a href=\"https://colab.research.google.com/github/aswinaus/Reinforcement-Learning/blob/main/GRPO_Loss_in_PyTorch_using_CartPole_v1.ipynb\" target=\"_parent\"><img src=\"https://colab.research.google.com/assets/colab-badge.svg\" alt=\"Open In Colab\"/></a>"
      ]
    },
    {
      "cell_type": "code",
      "execution_count": null,
      "metadata": {
        "id": "E3-gaA7aGeAu"
      },
      "outputs": [],
      "source": [
        "import gym\n",
        "import torch\n",
        "import torch.nn as nn\n",
        "import torch.optim as optim\n",
        "\n",
        "env = gym.make(\"CartPole-v1\")\n",
        "obs_dim = env.observation_space.shape[0]\n",
        "act_dim = env.action_space.n\n",
        "# Used ReLU - Recitified Linear Unit as activation function\n",
        "class GRPOAgent(nn.Module):\n",
        "    def __init__(self):\n",
        "        super().__init__()\n",
        "        self.fc = nn.Sequential(\n",
        "            nn.Linear(obs_dim, 64),\n",
        "            nn.ReLU(),\n",
        "            nn.Linear(64, 64),\n",
        "            nn.ReLU(),\n",
        "        )\n",
        "        self.policy_head = nn.Linear(64, act_dim)\n",
        "        self.value_head = nn.Linear(64, 1)\n",
        "\n",
        "    def forward(self, x):\n",
        "        x = self.fc(x)\n",
        "        logits = self.policy_head(x)\n",
        "        value = self.value_head(x)\n",
        "        return logits, value\n",
        "\n",
        "    def get_action(self, obs):\n",
        "        logits, value = self.forward(obs)\n",
        "        dist = torch.distributions.Categorical(logits=logits)\n",
        "        action = dist.sample()\n",
        "        return action.item(), dist.log_prob(action), value\n",
        "\n",
        "agent = GRPOAgent()\n",
        "optimizer = optim.Adam(agent.parameters(), lr=3e-4)\n",
        "\n",
        "gamma = 0.99\n",
        "num_episodes = 500\n",
        "\n",
        "for episode in range(num_episodes):\n",
        "    obs_list, act_list, logp_list, reward_list, value_list = [], [], [], [], []\n",
        "\n",
        "    obs = env.reset()\n",
        "    done = False\n",
        "    total_reward = 0\n",
        "\n",
        "    while not done:\n",
        "        obs_tensor = torch.tensor(obs, dtype=torch.float32)\n",
        "        action, logp, value = agent.get_action(obs_tensor)\n",
        "\n",
        "        next_obs, reward, done, _ = env.step(action)\n",
        "\n",
        "        obs_list.append(obs_tensor)\n",
        "        act_list.append(action)\n",
        "        logp_list.append(logp)\n",
        "        value_list.append(value.squeeze())\n",
        "        reward_list.append(reward)\n",
        "\n",
        "        obs = next_obs\n",
        "        total_reward += reward\n",
        "\n",
        "    # Compute returns\n",
        "    G = 0\n",
        "    returns = []\n",
        "    for r in reversed(reward_list):\n",
        "        G = r + gamma * G\n",
        "        returns.insert(0, G)\n",
        "\n",
        "    returns = torch.tensor(returns, dtype=torch.float32)\n",
        "    values = torch.stack(value_list)\n",
        "    advantages = returns - values.detach()\n",
        "\n",
        "    logps = torch.stack(logp_list)\n",
        "    policy_loss = -(logps * advantages).mean()\n",
        "    value_loss = (returns - values).pow(2).mean()\n",
        "    loss = policy_loss + 0.5 * value_loss\n",
        "\n",
        "    optimizer.zero_grad()\n",
        "    loss.backward()\n",
        "    optimizer.step()\n",
        "\n",
        "    if (episode + 1) % 10 == 0:\n",
        "        print(\n",
        "            f\"Episode {episode+1:3d} | Total Reward: {total_reward:6.1f} | \"\n",
        "            f\"Policy Loss: {policy_loss.item():.4f} | Value Loss: {value_loss.item():.4f}\"\n",
        "        )\n"
      ]
    }
  ]
}